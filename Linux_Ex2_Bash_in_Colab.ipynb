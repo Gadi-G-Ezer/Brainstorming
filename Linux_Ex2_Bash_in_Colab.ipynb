{
  "nbformat": 4,
  "nbformat_minor": 0,
  "metadata": {
    "colab": {
      "provenance": []
    },
    "kernelspec": {
      "name": "python3",
      "display_name": "Python 3"
    },
    "accelerator": "GPU",
    "gpuClass": "standard"
  },
  "cells": [
    {
      "cell_type": "markdown",
      "metadata": {
        "id": "IP3luewUG0hu"
      },
      "source": [
        "# Linux (PART 2)\n",
        "\n",
        "For this exercise you will practice your Linux skills using Bash commands embedded in Google Colab."
      ]
    },
    {
      "cell_type": "markdown",
      "metadata": {
        "id": "GD3Di0waG5wq"
      },
      "source": [
        "## Part 2: Bash in Colab and Frankenstein's Monster\n",
        "\n",
        "Please include code needed for your answer as code cells in this notebook, and submit the notebook as your answer.\n",
        "\n",
        "**Questions**\n",
        "\n",
        "1. Use the a Bash command to check what OS is hosting your Google Colab session."
      ]
    },
    {
      "cell_type": "code",
      "source": [
        "! lsb_release -a"
      ],
      "metadata": {
        "colab": {
          "base_uri": "https://localhost:8080/"
        },
        "id": "cmLo1ZlEyTlj",
        "outputId": "92251194-95d4-4fa6-9c10-4caeb9838cae"
      },
      "execution_count": null,
      "outputs": [
        {
          "output_type": "stream",
          "name": "stdout",
          "text": [
            "No LSB modules are available.\n",
            "Distributor ID:\tUbuntu\n",
            "Description:\tUbuntu 20.04.5 LTS\n",
            "Release:\t20.04\n",
            "Codename:\tfocal\n"
          ]
        }
      ]
    },
    {
      "cell_type": "markdown",
      "source": [
        "2. Run a command (different than question 1) to show the contents of the file `/etc/os-release`. What Linux distro is being used? What version?"
      ],
      "metadata": {
        "id": "B9mYpLcpXQET"
      }
    },
    {
      "cell_type": "code",
      "source": [
        "! cat /etc/os-release"
      ],
      "metadata": {
        "colab": {
          "base_uri": "https://localhost:8080/"
        },
        "id": "7Gr91vew09DE",
        "outputId": "eb576126-0d70-4b04-bd00-1f37627bea44"
      },
      "execution_count": null,
      "outputs": [
        {
          "output_type": "stream",
          "name": "stdout",
          "text": [
            "NAME=\"Ubuntu\"\n",
            "VERSION=\"20.04.5 LTS (Focal Fossa)\"\n",
            "ID=ubuntu\n",
            "ID_LIKE=debian\n",
            "PRETTY_NAME=\"Ubuntu 20.04.5 LTS\"\n",
            "VERSION_ID=\"20.04\"\n",
            "HOME_URL=\"https://www.ubuntu.com/\"\n",
            "SUPPORT_URL=\"https://help.ubuntu.com/\"\n",
            "BUG_REPORT_URL=\"https://bugs.launchpad.net/ubuntu/\"\n",
            "PRIVACY_POLICY_URL=\"https://www.ubuntu.com/legal/terms-and-policies/privacy-policy\"\n",
            "VERSION_CODENAME=focal\n",
            "UBUNTU_CODENAME=focal\n"
          ]
        }
      ]
    },
    {
      "cell_type": "markdown",
      "source": [
        "3. Use a Bash command to see what your username is in the Google Colab session."
      ],
      "metadata": {
        "id": "rMQJTbOPXQPy"
      }
    },
    {
      "cell_type": "code",
      "source": [
        "! whoami"
      ],
      "metadata": {
        "colab": {
          "base_uri": "https://localhost:8080/"
        },
        "id": "AAS0UOcH1Kfq",
        "outputId": "a671931f-f6f6-458c-c86c-53c68a272ef9"
      },
      "execution_count": null,
      "outputs": [
        {
          "output_type": "stream",
          "name": "stdout",
          "text": [
            "root\n"
          ]
        }
      ]
    },
    {
      "cell_type": "markdown",
      "source": [
        "4. Explain the output of the two code cells below.  Why do the two cells have different output? \n",
        "different workinf directory"
      ],
      "metadata": {
        "id": "74rssXCnXQXb"
      }
    },
    {
      "cell_type": "markdown",
      "source": [
        "working directory is reset to default directory (i.e. /content) every new line.\n",
        "therefore, executing ' ! cd sample_data; ls  '  in the same line would list files and directories in the sample_data directory while executing the same sequence of commands in different lines would list the file and directories in the default directory (i.e, /content).\n"
      ],
      "metadata": {
        "id": "pXhCS8nbeshB"
      }
    },
    {
      "cell_type": "code",
      "metadata": {
        "id": "srK0Q-DGePja",
        "colab": {
          "base_uri": "https://localhost:8080/"
        },
        "outputId": "e1575625-4710-4331-fdef-746c0f46e795"
      },
      "source": [
        "! pwd\n",
        "! cd sample_data; ls\n",
        "! pwd"
      ],
      "execution_count": null,
      "outputs": [
        {
          "output_type": "stream",
          "name": "stdout",
          "text": [
            "/content\n",
            "anscombe.json\t\t      mnist_test.csv\n",
            "california_housing_test.csv   mnist_train_small.csv\n",
            "california_housing_train.csv  README.md\n",
            "/content\n"
          ]
        }
      ]
    },
    {
      "cell_type": "code",
      "metadata": {
        "id": "mcY6pDsyeSHu",
        "colab": {
          "base_uri": "https://localhost:8080/"
        },
        "outputId": "397cbe61-13ef-4c75-bb3b-e7b4631bff3d"
      },
      "source": [
        "! pwd\n",
        "! cd sample_data; pwd\n",
        "! pwd\n",
        "! ls\n"
      ],
      "execution_count": 3,
      "outputs": [
        {
          "output_type": "stream",
          "name": "stdout",
          "text": [
            "/content\n",
            "/content/sample_data\n",
            "/content\n",
            "sample_data\n",
            "/content\n"
          ]
        }
      ]
    },
    {
      "cell_type": "markdown",
      "source": [
        "5. Google Colab provides free GPU runtime, for accelerating some types of machine learning models. To enable this go to `Runtime>Change runtime type` in the navigation bar and select GPU. This provides an NVIDIA GPU so we may use the `nvidia-smi` command-line tool to examine and monitor the GPU. Try running this command before and after enabling GPU acceleration in Colab. How is the output of this command different before and after enabling GPU?\n",
        "\n",
        "before enabling it couldnt connect to the GPU raising a driver error message."
      ],
      "metadata": {
        "id": "vBzMmOPUXQeM"
      }
    },
    {
      "cell_type": "code",
      "source": [
        "\n",
        "! nvidia-smi"
      ],
      "metadata": {
        "colab": {
          "base_uri": "https://localhost:8080/"
        },
        "id": "rGJraqHJ3Rma",
        "outputId": "404d3ceb-86cc-4609-fa1f-ad74c3647f9e"
      },
      "execution_count": null,
      "outputs": [
        {
          "output_type": "stream",
          "name": "stdout",
          "text": [
            "Tue Feb 28 07:20:11 2023       \n",
            "+-----------------------------------------------------------------------------+\n",
            "| NVIDIA-SMI 525.85.12    Driver Version: 525.85.12    CUDA Version: 12.0     |\n",
            "|-------------------------------+----------------------+----------------------+\n",
            "| GPU  Name        Persistence-M| Bus-Id        Disp.A | Volatile Uncorr. ECC |\n",
            "| Fan  Temp  Perf  Pwr:Usage/Cap|         Memory-Usage | GPU-Util  Compute M. |\n",
            "|                               |                      |               MIG M. |\n",
            "|===============================+======================+======================|\n",
            "|   0  Tesla T4            Off  | 00000000:00:04.0 Off |                    0 |\n",
            "| N/A   54C    P0    27W /  70W |      0MiB / 15360MiB |      0%      Default |\n",
            "|                               |                      |                  N/A |\n",
            "+-------------------------------+----------------------+----------------------+\n",
            "                                                                               \n",
            "+-----------------------------------------------------------------------------+\n",
            "| Processes:                                                                  |\n",
            "|  GPU   GI   CI        PID   Type   Process name                  GPU Memory |\n",
            "|        ID   ID                                                   Usage      |\n",
            "|=============================================================================|\n",
            "|  No running processes found                                                 |\n",
            "+-----------------------------------------------------------------------------+\n"
          ]
        }
      ]
    },
    {
      "cell_type": "markdown",
      "source": [
        "6. From the output of `nvidia-smi`, determine what type of GPU is provided in Google Colab. Careful: It is easy to confuse the different fields output by this command. Use Google to double-check that your answer is really an NVIDIA GPU. \n",
        "\n",
        "T4"
      ],
      "metadata": {
        "id": "Ff1KkmdKXQkb"
      }
    },
    {
      "cell_type": "markdown",
      "source": [
        "7. Create a directory `data/` within the current working directory."
      ],
      "metadata": {
        "id": "qyo0JA9mXQrE"
      }
    },
    {
      "cell_type": "code",
      "source": [
        "! mkdir data/\n"
      ],
      "metadata": {
        "id": "XlCeyKYX8hSl",
        "outputId": "f4eba543-5747-4101-cb86-72b167457fa7",
        "colab": {
          "base_uri": "https://localhost:8080/"
        }
      },
      "execution_count": null,
      "outputs": [
        {
          "output_type": "stream",
          "name": "stdout",
          "text": [
            "mkdir: cannot create directory ‘data/’: File exists\n"
          ]
        }
      ]
    },
    {
      "cell_type": "markdown",
      "source": [
        "8. Let's now download the entire text of the classic 1818 novel *Frankenstein* from [Project Gutenberg](https://www.gutenberg.org/). Using Bash command(s), download the external file from the following URL and save it as a text file within `data/`: https://www.gutenberg.org/files/41445/41445-0.txt "
      ],
      "metadata": {
        "id": "S91nIOENXQzN"
      }
    },
    {
      "cell_type": "code",
      "source": [
        "! wget -P data/ https://www.gutenberg.org/files/41445/41445-0.txt"
      ],
      "metadata": {
        "colab": {
          "base_uri": "https://localhost:8080/"
        },
        "id": "x7qsl_vOHGhr",
        "outputId": "c6ef764a-fbf3-46fc-b474-405b1c033815"
      },
      "execution_count": null,
      "outputs": [
        {
          "output_type": "stream",
          "name": "stdout",
          "text": [
            "--2023-02-28 13:16:10--  https://www.gutenberg.org/files/41445/41445-0.txt\n",
            "Resolving www.gutenberg.org (www.gutenberg.org)... 152.19.134.47, 2610:28:3090:3000:0:bad:cafe:47\n",
            "Connecting to www.gutenberg.org (www.gutenberg.org)|152.19.134.47|:443... connected.\n",
            "HTTP request sent, awaiting response... 200 OK\n",
            "Length: 437976 (428K) [text/plain]\n",
            "Saving to: ‘data/41445-0.txt’\n",
            "\n",
            "41445-0.txt         100%[===================>] 427.71K  --.-KB/s    in 0.09s   \n",
            "\n",
            "2023-02-28 13:16:10 (4.42 MB/s) - ‘data/41445-0.txt’ saved [437976/437976]\n",
            "\n"
          ]
        }
      ]
    },
    {
      "cell_type": "markdown",
      "source": [
        "9. Using a single Bash command, view the permissions and size of the downloaded file. How large is it? (in kilo/mega/gigabytes)"
      ],
      "metadata": {
        "id": "SMM-DcInXQ61"
      }
    },
    {
      "cell_type": "code",
      "source": [
        "! cd data/; ls -hl"
      ],
      "metadata": {
        "colab": {
          "base_uri": "https://localhost:8080/"
        },
        "id": "pLchfxYyMkqU",
        "outputId": "34c2619f-d4d6-4eef-88ba-8bbd958bb7ad"
      },
      "execution_count": null,
      "outputs": [
        {
          "output_type": "stream",
          "name": "stdout",
          "text": [
            "total 428K\n",
            "-rw-r--r-- 1 root root 428K Nov  2  2021 41445-0.txt\n"
          ]
        }
      ]
    },
    {
      "cell_type": "markdown",
      "source": [
        "10. In Google Colab, go to `Runtime > Restart runtime`. What happens to the downloaded file, if anything?"
      ],
      "metadata": {
        "id": "Vdv9vq8zXRCW"
      }
    },
    {
      "cell_type": "code",
      "source": [
        "! cd data/; ls -hl\n",
        "\n",
        "# no changes observed after restarting runtime"
      ],
      "metadata": {
        "colab": {
          "base_uri": "https://localhost:8080/"
        },
        "id": "51ktOjPUOUgC",
        "outputId": "874f486f-2f7a-40f5-9863-44cdd42ab84e"
      },
      "execution_count": null,
      "outputs": [
        {
          "output_type": "stream",
          "name": "stdout",
          "text": [
            "total 428K\n",
            "-rw-r--r-- 1 root root 428K Nov  2  2021 41445-0.txt\n"
          ]
        }
      ]
    },
    {
      "cell_type": "markdown",
      "source": [
        "11. Repeat 8 but with: \n",
        "*   `Runtime > Disconnect and delete runtime`\n",
        "*   `Reconnect` on top right\n",
        "\n",
        "instead. What happens to the downloaded file, if anything? "
      ],
      "metadata": {
        "id": "mlinB7wUXRKv"
      }
    },
    {
      "cell_type": "code",
      "source": [
        "! cd data/; ls -hl\n",
        "! wget -P data/ https://www.gutenberg.org/files/41445/41445-0.txt\n",
        "! cd data/; ls -hl\n"
      ],
      "metadata": {
        "colab": {
          "base_uri": "https://localhost:8080/"
        },
        "id": "raUyXGVFOxIa",
        "outputId": "0e55f659-841c-4b0b-ba4b-69fc3ea5df07"
      },
      "execution_count": null,
      "outputs": [
        {
          "output_type": "stream",
          "name": "stdout",
          "text": [
            "/bin/bash: line 0: cd: data/: No such file or directory\n",
            "total 4.0K\n",
            "drwxr-xr-x 1 root root 4.0K Feb 24 14:38 sample_data\n",
            "--2023-02-28 17:29:22--  https://www.gutenberg.org/files/41445/41445-0.txt\n",
            "Resolving www.gutenberg.org (www.gutenberg.org)... 152.19.134.47, 2610:28:3090:3000:0:bad:cafe:47\n",
            "Connecting to www.gutenberg.org (www.gutenberg.org)|152.19.134.47|:443... connected.\n",
            "HTTP request sent, awaiting response... 200 OK\n",
            "Length: 437976 (428K) [text/plain]\n",
            "Saving to: ‘data/41445-0.txt’\n",
            "\n",
            "41445-0.txt         100%[===================>] 427.71K  1.03MB/s    in 0.4s    \n",
            "\n",
            "2023-02-28 17:29:44 (1.03 MB/s) - ‘data/41445-0.txt’ saved [437976/437976]\n",
            "\n",
            "total 428K\n",
            "-rw-r--r-- 1 root root 428K Nov  2  2021 41445-0.txt\n"
          ]
        }
      ]
    },
    {
      "cell_type": "markdown",
      "source": [
        "12. Recreate the `data` directory and redownload the file.  Using the `grep` command, find all words in the novel containing at least 16 characters. How many are there? Hint: [learn-regex](https://github.com/ziishaned/learn-regex) and [Regex101](https://regex101.com/) may help.\n",
        "\n",
        "Hints:\n",
        "- [learn-regex](https://github.com/ziishaned/learn-regex) and [Regex101](https://regex101.com/) may help.\n",
        "- No need to use \"special\" types of pattern selection (-E, -F, -G etc.)\n",
        "- Consider putting `\\` before `{` and `}`"
      ],
      "metadata": {
        "id": "dIyI4NtFXRT3"
      }
    },
    {
      "cell_type": "code",
      "source": [
        "!grep -o -w '\\w\\{16,\\}' data/41445-0.txt | wc -l\n",
        "#  THere are in total 6 words with alteast 16 charecters"
      ],
      "metadata": {
        "colab": {
          "base_uri": "https://localhost:8080/"
        },
        "id": "SK-PTfUgQKHS",
        "outputId": "53fa68de-8c36-40a0-d98d-3c38ccd0a5fe"
      },
      "execution_count": null,
      "outputs": [
        {
          "output_type": "stream",
          "name": "stdout",
          "text": [
            "6\n"
          ]
        }
      ]
    },
    {
      "cell_type": "markdown",
      "source": [
        "13. Using a Bash command, save the list of words from question 11 into a file `long_words.txt`. Do not write out the words yourself."
      ],
      "metadata": {
        "id": "-Kw8vDBEXRex"
      }
    },
    {
      "cell_type": "code",
      "source": [
        "!grep -o -w '\\w\\{16,\\}' data/41445-0.txt > data/long_words.txt; ls data; cat data/long_words.txt"
      ],
      "metadata": {
        "colab": {
          "base_uri": "https://localhost:8080/"
        },
        "id": "SsvH3y_hEWTi",
        "outputId": "3ac639b5-4f55-4630-8d34-e4da934f2c89"
      },
      "execution_count": null,
      "outputs": [
        {
          "output_type": "stream",
          "name": "stdout",
          "text": [
            "41445-0.txt  long_words.txt\n",
            "incomprehensible\n",
            "impracticability\n",
            "prognostications\n",
            "perpendicularity\n",
            "inextinguishable\n",
            "unenforceability\n"
          ]
        }
      ]
    },
    {
      "cell_type": "markdown",
      "source": [
        "14. Count how many lines in the novel contain the word ' > data/l'. Hint: Use `grep (-w)`, a pipe `|`, and `wc (-l)`. See their man pages to understand the meaning of the flags `-w` and `-l`."
      ],
      "metadata": {
        "id": "FwwXPfoZXSJk"
      }
    },
    {
      "cell_type": "code",
      "source": [
        "! grep -w 'Frankenstein' data/41445-0.txt |wc -l\n",
        "# there are 25 lines"
      ],
      "metadata": {
        "colab": {
          "base_uri": "https://localhost:8080/"
        },
        "id": "-ivDwMERFW-x",
        "outputId": "5e8cd828-0a5a-4566-b957-ea7eb32325e9"
      },
      "execution_count": null,
      "outputs": [
        {
          "output_type": "stream",
          "name": "stdout",
          "text": [
            "25\n"
          ]
        }
      ]
    },
    {
      "cell_type": "markdown",
      "source": [
        "15. Print out the first 50 lines of the novel using a Bash command."
      ],
      "metadata": {
        "id": "6rEgu6r2XSMc"
      }
    },
    {
      "cell_type": "code",
      "source": [
        "!head -n 50 data/41445-0.txt "
      ],
      "metadata": {
        "colab": {
          "base_uri": "https://localhost:8080/"
        },
        "id": "nH94EBgiHBcC",
        "outputId": "c093f35c-cd34-4712-886f-602275cef6ce"
      },
      "execution_count": null,
      "outputs": [
        {
          "output_type": "stream",
          "name": "stdout",
          "text": [
            "﻿The Project Gutenberg eBook of Frankenstein, by Mary Shelley\r\n",
            "\r\n",
            "This eBook is for the use of anyone anywhere in the United States and\r\n",
            "most other parts of the world at no cost and with almost no restrictions\r\n",
            "whatsoever. You may copy it, give it away or re-use it under the terms\r\n",
            "of the Project Gutenberg License included with this eBook or online at\r\n",
            "www.gutenberg.org. If you are not located in the United States, you\r\n",
            "will have to check the laws of the country where you are located before\r\n",
            "using this eBook.\r\n",
            "\r\n",
            "Title: Frankenstein\r\n",
            "       or, The Modern Prometheus\r\n",
            "\r\n",
            "Author: Mary Shelley\r\n",
            "\r\n",
            "Release Date: November 23, 2012 [eBook #41445]\r\n",
            "[Most recently updated: November 1, 2021]\r\n",
            "\r\n",
            "Language: English\r\n",
            "\r\n",
            "Character set encoding: UTF-8\r\n",
            "\r\n",
            "Produced by: Produced by Greg Weeks, Mary Meehan and the Online\r\n",
            "Distributed Proofreading Team at http://www.pgdp.net\r\n",
            "Revised by Richard Tonsing.\r\n",
            "\r\n",
            "*** START OF THE PROJECT GUTENBERG EBOOK FRANKENSTEIN ***\r\n",
            "\r\n",
            "[Transcriber’s Note: This text was produced from a photo-reprint of the\r\n",
            "1818 edition.]\r\n",
            "\r\n",
            "\r\n",
            "\r\n",
            "\r\n",
            "                             FRANKENSTEIN;\r\n",
            "\r\n",
            "                                  OR,\r\n",
            "\r\n",
            "                         THE MODERN PROMETHEUS.\r\n",
            "\r\n",
            "\r\n",
            "    IN THREE VOLUMES.\r\n",
            "    VOL. I.\r\n",
            "\r\n",
            "    London:\r\n",
            "\r\n",
            "    _PRINTED FOR_\r\n",
            "    LACKINGTON, HUGHES, HARDING, MAVOR, & JONES,\r\n",
            "    FINSBURY SQUARE.\r\n",
            "\r\n"
          ]
        }
      ]
    },
    {
      "cell_type": "markdown",
      "source": [
        "16. In Google Colab, there is a \"Files\" menu available from the left-hand bar in the user interface. What directory's contents does this display by default?"
      ],
      "metadata": {
        "id": "x4L_KBt9XSPB"
      }
    },
    {
      "cell_type": "code",
      "source": [
        "! pwd\n",
        "#  It is diplaying the contents of the folder called 'content'"
      ],
      "metadata": {
        "id": "lSXjTi3xIJ2J",
        "outputId": "e38e0e8d-fd17-40c7-9def-29f04355c1d1",
        "colab": {
          "base_uri": "https://localhost:8080/"
        }
      },
      "execution_count": null,
      "outputs": [
        {
          "output_type": "stream",
          "name": "stdout",
          "text": [
            "/content\n"
          ]
        }
      ]
    }
  ]
}