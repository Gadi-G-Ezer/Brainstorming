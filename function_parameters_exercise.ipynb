{
  "cells": [
    {
      "cell_type": "markdown",
      "metadata": {
        "id": "cvnIbFnRfHKO"
      },
      "source": [
        "![image.png](attachment:image.png)"
      ]
    },
    {
      "cell_type": "markdown",
      "metadata": {
        "id": "Il3XgtUkfHKQ"
      },
      "source": [
        "# Function parameters - Class exercise:"
      ]
    },
    {
      "cell_type": "markdown",
      "metadata": {
        "id": "k3DNboS7fHKQ"
      },
      "source": [
        "## Warning"
      ]
    },
    {
      "cell_type": "markdown",
      "metadata": {
        "id": "I-YFr2lQfHKR"
      },
      "source": [
        "<html><font size=\"+2\"><mark>Warning:</mark></font><br><html>"
      ]
    },
    {
      "cell_type": "markdown",
      "metadata": {
        "id": "4-asEmCyfHKR"
      },
      "source": [
        "We will later learn about **Decorators** that could be used to solve this exercise.  However, for this exercise, no knowledge of decorators is necessary, and usage of decorators is not allowed!"
      ]
    },
    {
      "cell_type": "markdown",
      "metadata": {
        "id": "73Q3ZsiufHKR"
      },
      "source": [
        "## Instructions"
      ]
    },
    {
      "cell_type": "markdown",
      "metadata": {
        "id": "bmHMXGoofHKS"
      },
      "source": [
        "- We sometimes get functions from other teams / externals company and we can't change the original function since it's not our code.\n",
        "- However, these functions sometimes don't have any prints in them, so we don't even know that it was called and what is the result\n",
        "- An example of such a function, `create_num` is given below"
      ]
    },
    {
      "cell_type": "code",
      "execution_count": 1,
      "metadata": {
        "id": "ssKkR1grfHKS"
      },
      "outputs": [],
      "source": [
        "def create_num(p1=0, p2=0, p3=0, p4=0):\n",
        "    return p1 * 1000 + p2 * 100 + p3 * 10 + p4"
      ]
    },
    {
      "cell_type": "code",
      "execution_count": 2,
      "metadata": {
        "id": "7byD96LpfHKT",
        "outputId": "c9a79767-0c01-4ab9-c551-0adf1bf4836a",
        "colab": {
          "base_uri": "https://localhost:8080/"
        }
      },
      "outputs": [
        {
          "output_type": "execute_result",
          "data": {
            "text/plain": [
              "1000"
            ]
          },
          "metadata": {},
          "execution_count": 2
        }
      ],
      "source": [
        "create_num(1)"
      ]
    },
    {
      "cell_type": "markdown",
      "metadata": {
        "id": "ML6Dgty6fHKT"
      },
      "source": [
        "**Goal**: create a new function `func_with_return_value_print` that would:\n",
        "- get as 1st input parameter a function that should called\n",
        "- Get passed all the other parameters from 2nd parameter and on in the same way as the original function \n",
        "- behave like the function that's given in any other way\n",
        "- But: add printing of the result\n",
        "- the original function (like `create_num`) could be called both with **positional**, or **named parameters**, or with a **mix**\n",
        "- **Warning**: you can use `create_num` as a function you work with, but write your code of `func_with_return_value_print` in a generic way that would work with any function  \n",
        "- Tests were given for you, you just need to make sure they pass"
      ]
    },
    {
      "cell_type": "markdown",
      "metadata": {
        "id": "oDw31tPcfHKU"
      },
      "source": [
        "## Your code"
      ]
    },
    {
      "cell_type": "code",
      "execution_count": 6,
      "metadata": {
        "colab": {
          "base_uri": "https://localhost:8080/"
        },
        "id": "L-eZpo3PfHKU",
        "outputId": "721251e0-8025-45af-8742-28c2c9ad6251"
      },
      "outputs": [
        {
          "output_type": "stream",
          "name": "stdout",
          "text": [
            "the result returned from <function create_num at 0x7f7fbfe490d0>: 1000\n"
          ]
        },
        {
          "output_type": "execute_result",
          "data": {
            "text/plain": [
              "1000"
            ]
          },
          "metadata": {},
          "execution_count": 6
        }
      ],
      "source": [
        "# your code here\n",
        "def func_with_return_value_print(name, *arguments, **k_arguments):\n",
        "  result = name(*arguments, **k_arguments)\n",
        "  print(f'the result returned from {name}: {result}')\n",
        "  return result \n",
        "\n",
        "func_with_return_value_print(create_num, 1)\n"
      ]
    },
    {
      "cell_type": "markdown",
      "metadata": {
        "id": "_QFS0GhkfHKU"
      },
      "source": [
        "## Tests"
      ]
    },
    {
      "cell_type": "markdown",
      "metadata": {
        "id": "cQS0gAUmfHKU"
      },
      "source": [
        "Following are the **tests**.\n",
        "\n",
        "- Make sure they pass\n",
        "- Make sure you have prints similar to this when the tests run:\n",
        "\n",
        "`Result returned from <function create_num at 0x0000022E5FCE5B88>: 1000\n",
        "Result returned from <function create_num at 0x0000022E5FCE5B88>: 1234\n",
        "Result returned from <function create_num at 0x0000022E5FCE5B88>: 1030\n",
        "Result returned from <function create_num at 0x0000022E5FCE5B88>: 1234\n",
        "Result returned from <function create_num at 0x0000022E5FCE5B88>: 1030\n",
        "Result returned from <function create_num at 0x0000022E5FCE5B88>: 1234`"
      ]
    },
    {
      "cell_type": "code",
      "execution_count": 7,
      "metadata": {
        "id": "96n81YMLfHKV",
        "outputId": "3cdea839-db51-47e1-9770-97354da4d20a",
        "colab": {
          "base_uri": "https://localhost:8080/"
        }
      },
      "outputs": [
        {
          "output_type": "stream",
          "name": "stdout",
          "text": [
            "the result returned from <function create_num at 0x7f7fbfe490d0>: 1000\n",
            "the result returned from <function create_num at 0x7f7fbfe490d0>: 1234\n",
            "the result returned from <function create_num at 0x7f7fbfe490d0>: 1030\n",
            "the result returned from <function create_num at 0x7f7fbfe490d0>: 1234\n",
            "the result returned from <function create_num at 0x7f7fbfe490d0>: 1030\n",
            "the result returned from <function create_num at 0x7f7fbfe490d0>: 1234\n"
          ]
        }
      ],
      "source": [
        "# positional only parameters\n",
        "assert create_num(1) == 1000\n",
        "assert func_with_return_value_print(create_num, 1) == create_num(1)\n",
        "\n",
        "assert create_num(1, 2, 3, 4) == 1234\n",
        "assert func_with_return_value_print(create_num, 1, 2, 3, 4) == create_num(1, 2, 3, 4)\n",
        "\n",
        "# named only parameters\n",
        "assert create_num(p1=1, p3=3) == 1030\n",
        "assert func_with_return_value_print(create_num, p1=1, p3=3) == create_num(p1=1, p3=3)\n",
        "\n",
        "assert create_num(p1=1, p2=2, p3=3, p4=4) == 1234\n",
        "assert func_with_return_value_print(create_num, p1=1, p2=2, p3=3, p4=4) == create_num(p1=1, p2=2, p3=3, p4=4)\n",
        "\n",
        "# mix of positional and named parameters\n",
        "assert func_with_return_value_print(create_num, 1, p3=3) == create_num(1, p3=3)\n",
        "assert create_num(1, p3=3) == 1030\n",
        "\n",
        "assert create_num(1, 2, p3=3, p4=4) == 1234\n",
        "assert func_with_return_value_print(create_num, 1, 2, p3=3, p4=4) == create_num(1, 2, p3=3, p4=4)"
      ]
    }
  ],
  "metadata": {
    "kernelspec": {
      "display_name": "Python 3",
      "language": "python",
      "name": "python3"
    },
    "language_info": {
      "codemirror_mode": {
        "name": "ipython",
        "version": 3
      },
      "file_extension": ".py",
      "mimetype": "text/x-python",
      "name": "python",
      "nbconvert_exporter": "python",
      "pygments_lexer": "ipython3",
      "version": "3.7.10"
    },
    "toc": {
      "base_numbering": 1,
      "nav_menu": {},
      "number_sections": true,
      "sideBar": true,
      "skip_h1_title": false,
      "title_cell": "Table of Contents",
      "title_sidebar": "Contents",
      "toc_cell": false,
      "toc_position": {},
      "toc_section_display": true,
      "toc_window_display": true
    },
    "colab": {
      "provenance": []
    }
  },
  "nbformat": 4,
  "nbformat_minor": 0
}